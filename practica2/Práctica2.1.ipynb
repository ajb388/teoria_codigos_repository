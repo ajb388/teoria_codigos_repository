{
 "cells": [
  {
   "cell_type": "code",
   "execution_count": 1,
   "id": "674b5bfa-b61f-48dc-98c6-fb361c14fc89",
   "metadata": {},
   "outputs": [],
   "source": [
    "import os\n",
    "import tkinter as tk\n",
    "from tkinter import filedialog\n",
    "from Crypto.Cipher import AES\n",
    "from Crypto.Util.Padding import pad, unpad\n",
    "from Crypto.Random import get_random_bytes"
   ]
  },
  {
   "cell_type": "code",
   "execution_count": 2,
   "id": "f6341005-0c4f-49c1-b770-5df399db8717",
   "metadata": {},
   "outputs": [],
   "source": [
    "# Función para leer el archivo y devolver su contenido\n",
    "def leer_archivo(ruta_archivo):\n",
    "    with open(ruta_archivo, 'rb') as f:\n",
    "        return f.read()\n",
    "\n",
    "# Función para escribir datos en un archivo\n",
    "def escribir_archivo(ruta_archivo, datos):\n",
    "    with open(ruta_archivo, 'wb') as f:\n",
    "        f.write(datos)\n"
   ]
  },
  {
   "cell_type": "code",
   "execution_count": 3,
   "id": "454b3d39-4c96-4aa9-9c74-ac0643fb0283",
   "metadata": {},
   "outputs": [],
   "source": [
    "def cifrar_archivo(ruta_archivo, clave, ruta_salida):\n",
    "    datos = leer_archivo(ruta_archivo)  # Leer el archivo a cifrar\n",
    "\n",
    "    # Crear un cifrador AES en modo CBC\n",
    "    cipher = AES.new(clave, AES.MODE_CBC)\n",
    "    iv = cipher.iv  # Inicializar el vector de inicialización (IV)\n",
    "\n",
    "    # Añadir padding (relleno) a los datos para que sean múltiplos del tamaño de bloque (16 bytes)\n",
    "    datos_padded = pad(datos, AES.block_size)\n",
    "\n",
    "    # Cifrar los datos\n",
    "    ciphertext = cipher.encrypt(datos_padded)\n",
    "\n",
    "    # Guardar el IV y el texto cifrado en el archivo de salida\n",
    "    with open(ruta_salida, 'wb') as f:\n",
    "        f.write(iv)           # Guardar el IV (16 bytes)\n",
    "        f.write(ciphertext)    # Guardar el texto cifrado\n",
    "\n",
    "    print(f\"Archivo cifrado guardado en {ruta_salida}\")\n"
   ]
  },
  {
   "cell_type": "code",
   "execution_count": 4,
   "id": "2cc54829-25d5-4eac-b0fa-aec1b303313b",
   "metadata": {},
   "outputs": [],
   "source": [
    "def descifrar_archivo(ruta_archivo, clave, ruta_salida):\n",
    "    with open(ruta_archivo, 'rb') as f:\n",
    "        iv = f.read(16)        # Leer el IV (16 bytes)\n",
    "        ciphertext = f.read()  # Leer el texto cifrado restante\n",
    "\n",
    "    # Crear un descifrador AES en modo CBC con el mismo IV\n",
    "    cipher = AES.new(clave, AES.MODE_CBC, iv=iv)\n",
    "\n",
    "    # Descifrar los datos\n",
    "    datos_padded = cipher.decrypt(ciphertext)\n",
    "\n",
    "    try:\n",
    "        # Eliminar el padding de los datos\n",
    "        datos = unpad(datos_padded, AES.block_size)\n",
    "\n",
    "        # Escribir el archivo descifrado\n",
    "        escribir_archivo(ruta_salida, datos)\n",
    "        print(f\"Archivo descifrado guardado en {ruta_salida}\")\n",
    "    except ValueError:\n",
    "        print(\"Error: el padding es incorrecto o los datos están corruptos.\")\n"
   ]
  },
  {
   "cell_type": "code",
   "execution_count": 5,
   "id": "1c9c2835-b2f5-45aa-b959-e833b956542d",
   "metadata": {},
   "outputs": [],
   "source": [
    "def generar_clave():\n",
    "    return get_random_bytes(32)  # AES-256 usa una clave de 256 bits (32 bytes)\n"
   ]
  },
  {
   "cell_type": "code",
   "execution_count": 6,
   "id": "e4371868-70cd-4f95-af76-b8d332faef31",
   "metadata": {},
   "outputs": [
    {
     "name": "stdout",
     "output_type": "stream",
     "text": [
      "Clave generada: b'^t\\xb3\\xe5{\\xde-7\\xb5\\n\\t\\xd7`\\xa0\\xa8b\\x00\\xd6\\xd3\\xd5\\x9e,\\x01h%\\x95\\x12\\x89/\\x02`\\xbc'\n"
     ]
    }
   ],
   "source": [
    "# Generar una clave AES-256\n",
    "clave = generar_clave()\n",
    "print(\"Clave generada:\", clave)\n"
   ]
  },
  {
   "cell_type": "code",
   "execution_count": 7,
   "id": "28f0e441-0c31-469d-9a81-9e2e2b9ec1de",
   "metadata": {},
   "outputs": [
    {
     "name": "stdout",
     "output_type": "stream",
     "text": [
      "Clave generada: b'l\\xaaf.\\xae\\xedny\\x86\\xef\\xcaT/!*\\xd7\\xfbD2\\xf6\\xe2\\x8d\\xff\\xf4 \\xb5\\xda\"\\x84gAm'\n"
     ]
    }
   ],
   "source": [
    "# Generar una clave AES-256\n",
    "clave = generar_clave()\n",
    "print(\"Clave generada:\", clave)\n"
   ]
  },
  {
   "cell_type": "code",
   "execution_count": 8,
   "id": "f5c2f6c3-a9c0-48fb-ada2-99698c400617",
   "metadata": {},
   "outputs": [],
   "source": [
    "def menu():\n",
    "    print(\"1. Cifrar un archivo\")\n",
    "    print(\"2. Descifrar un archivo\")\n",
    "    print(\"4. Salir\")\n",
    "    return input(\"Selecciona una opción: \")\n"
   ]
  },
  {
   "cell_type": "code",
   "execution_count": 9,
   "id": "406a28dc-7365-4ef8-a2e9-5a3694853bfa",
   "metadata": {},
   "outputs": [],
   "source": [
    "def main():\n",
    "    clave = generar_clave()  # Generar clave (se puede almacenar y reutilizar)\n",
    "    while True:\n",
    "        opcion = menu()\n",
    "        if opcion == '1':\n",
    "            # Cifrar archivo\n",
    "            root = tk.Tk()\n",
    "            root.withdraw()  # Oculta la ventana principal de Tkinter\n",
    "            ruta_archivo = filedialog.askopenfilename(\n",
    "                title=\"Seleccionar archivo\",\n",
    "                filetypes=[(\"Archivos de texto\", \".txt\"), (\"Todos los archivos\", \".*\")]\n",
    "            )\n",
    "            \n",
    "            if ruta_archivo:\n",
    "                print(f\"Has seleccionado: {ruta_archivo}\")\n",
    "                ruta_salida = input(\"Introduce la ruta de salida para el archivo cifrado (incluye el nombre del archivo): \")\n",
    "                cifrar_archivo(ruta_archivo, clave, ruta_salida)\n",
    "                print(f\"Archivo cifrado y guardado en: {ruta_salida}\")\n",
    "            else:\n",
    "                print(\"No se seleccionó ningún archivo.\")\n",
    "                \n",
    "        elif opcion == '2':\n",
    "            # Descifrar archivo\n",
    "            root = tk.Tk()\n",
    "            root.withdraw()  # Oculta la ventana principal de Tkinter\n",
    "            ruta_archivo = filedialog.askopenfilename(\n",
    "                title=\"Seleccionar archivo cifrado\",\n",
    "                filetypes=[(\"Archivos cifrados\", \"*.enc\"), (\"Todos los archivos\", \".*\")]\n",
    "            )\n",
    "            \n",
    "            if ruta_archivo:\n",
    "                print(f\"Has seleccionado: {ruta_archivo}\")\n",
    "                ruta_salida = input(\"Introduce la ruta de salida para el archivo descifrado (incluye el nombre del archivo): \")\n",
    "                descifrar_archivo(ruta_archivo, clave, ruta_salida)\n",
    "                print(f\"Archivo descifrado y guardado en: {ruta_salida}\")\n",
    "            else:\n",
    "                print(\"No se seleccionó ningún archivo.\")\n",
    "                \n",
    "        elif opcion == '3':\n",
    "            print(\"Saliendo...\")\n",
    "            break\n",
    "        else:\n",
    "            print(\"Opción no válida. Inténtalo de nuevo.\")\n"
   ]
  },
  {
   "cell_type": "code",
   "execution_count": null,
   "id": "396cca04-59f8-4e79-920f-c4c3fbb4e068",
   "metadata": {},
   "outputs": [
    {
     "name": "stdout",
     "output_type": "stream",
     "text": [
      "1. Cifrar un archivo\n",
      "2. Descifrar un archivo\n",
      "4. Salir\n"
     ]
    },
    {
     "name": "stdin",
     "output_type": "stream",
     "text": [
      "Selecciona una opción:  1\n"
     ]
    },
    {
     "name": "stdout",
     "output_type": "stream",
     "text": [
      "No se seleccionó ningún archivo.\n",
      "1. Cifrar un archivo\n",
      "2. Descifrar un archivo\n",
      "4. Salir\n"
     ]
    },
    {
     "name": "stdin",
     "output_type": "stream",
     "text": [
      "Selecciona una opción:  1\n"
     ]
    },
    {
     "name": "stdout",
     "output_type": "stream",
     "text": [
      "Has seleccionado: C:/Users/tonix/OneDrive/Escritorio/Prueba Cripto.txt\n"
     ]
    },
    {
     "name": "stdin",
     "output_type": "stream",
     "text": [
      "Introduce la ruta de salida para el archivo cifrado (incluye el nombre del archivo):  C:/Users/tonix/OneDrive/Escritorio/Prueba Cripto4.txt\n"
     ]
    },
    {
     "name": "stdout",
     "output_type": "stream",
     "text": [
      "Archivo cifrado guardado en C:/Users/tonix/OneDrive/Escritorio/Prueba Cripto4.txt\n",
      "Archivo cifrado y guardado en: C:/Users/tonix/OneDrive/Escritorio/Prueba Cripto4.txt\n",
      "1. Cifrar un archivo\n",
      "2. Descifrar un archivo\n",
      "4. Salir\n"
     ]
    },
    {
     "name": "stdin",
     "output_type": "stream",
     "text": [
      "Selecciona una opción:  2\n"
     ]
    },
    {
     "name": "stdout",
     "output_type": "stream",
     "text": [
      "Has seleccionado: C:/Users/tonix/OneDrive/Escritorio/Prueba Cripto4.txt\n"
     ]
    },
    {
     "name": "stdin",
     "output_type": "stream",
     "text": [
      "Introduce la ruta de salida para el archivo descifrado (incluye el nombre del archivo):  C:/Users/tonix/OneDrive/Escritorio/PATI JAVI.txt\n"
     ]
    },
    {
     "name": "stdout",
     "output_type": "stream",
     "text": [
      "Archivo descifrado guardado en C:/Users/tonix/OneDrive/Escritorio/PATI JAVI.txt\n",
      "Archivo descifrado y guardado en: C:/Users/tonix/OneDrive/Escritorio/PATI JAVI.txt\n",
      "1. Cifrar un archivo\n",
      "2. Descifrar un archivo\n",
      "4. Salir\n"
     ]
    }
   ],
   "source": [
    "if __name__ == \"__main__\":\n",
    "    main()\n"
   ]
  }
 ],
 "metadata": {
  "kernelspec": {
   "display_name": "Python 3 (ipykernel)",
   "language": "python",
   "name": "python3"
  },
  "language_info": {
   "codemirror_mode": {
    "name": "ipython",
    "version": 3
   },
   "file_extension": ".py",
   "mimetype": "text/x-python",
   "name": "python",
   "nbconvert_exporter": "python",
   "pygments_lexer": "ipython3",
   "version": "3.12.7"
  }
 },
 "nbformat": 4,
 "nbformat_minor": 5
}
