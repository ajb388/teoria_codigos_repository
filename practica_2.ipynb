{
 "cells": [
  {
   "cell_type": "markdown",
   "id": "56366065",
   "metadata": {},
   "source": [
    "```markdown\n",
    "El comando `pip install pycryptodome` es lo primero que se debe hacer para poder ejecutar todo el código. Este comando instala la biblioteca `pycryptodome`, que es necesaria para realizar las operaciones de cifrado y descifrado en los siguientes bloques de código.\n",
    "```"
   ]
  },
  {
   "cell_type": "code",
   "execution_count": 5,
   "id": "ca28ede6",
   "metadata": {},
   "outputs": [
    {
     "name": "stdout",
     "output_type": "stream",
     "text": [
      "Requirement already satisfied: pycryptodome in c:\\users\\adril\\appdata\\local\\programs\\python\\python313\\lib\\site-packages (3.21.0)\n",
      "Note: you may need to restart the kernel to use updated packages.\n"
     ]
    }
   ],
   "source": [
    "pip install pycryptodome"
   ]
  },
  {
   "cell_type": "code",
   "execution_count": 6,
   "id": "674b5bfa-b61f-48dc-98c6-fb361c14fc89",
   "metadata": {},
   "outputs": [],
   "source": [
    "\n",
    "import os\n",
    "from Crypto.Cipher import AES\n",
    "from Crypto.Util.Padding import pad, unpad\n",
    "from Crypto.Random import get_random_bytes"
   ]
  },
  {
   "cell_type": "code",
   "execution_count": 7,
   "id": "f6341005-0c4f-49c1-b770-5df399db8717",
   "metadata": {},
   "outputs": [],
   "source": [
    "# Función para leer el archivo y devolver su contenido\n",
    "def leer_archivo(ruta_archivo):\n",
    "    with open(ruta_archivo, 'rb') as f:\n",
    "        return f.read()\n",
    "\n",
    "# Función para escribir datos en un archivo\n",
    "def escribir_archivo(ruta_archivo, datos):\n",
    "    with open(ruta_archivo, 'wb') as f:\n",
    "        f.write(datos)\n"
   ]
  },
  {
   "cell_type": "code",
   "execution_count": 8,
   "id": "454b3d39-4c96-4aa9-9c74-ac0643fb0283",
   "metadata": {},
   "outputs": [],
   "source": [
    "def cifrar_archivo(ruta_archivo, clave, ruta_salida):\n",
    "    datos = leer_archivo(ruta_archivo)  # Leer el archivo a cifrar\n",
    "\n",
    "    # Crear un cifrador AES en modo CBC\n",
    "    cipher = AES.new(clave, AES.MODE_CBC)\n",
    "    iv = cipher.iv  # Inicializar el vector de inicialización (IV)\n",
    "\n",
    "    # Añadir padding (relleno) a los datos para que sean múltiplos del tamaño de bloque (16 bytes)\n",
    "    datos_padded = pad(datos, AES.block_size)\n",
    "\n",
    "    # Cifrar los datos\n",
    "    ciphertext = cipher.encrypt(datos_padded)\n",
    "\n",
    "    # Guardar el IV y el texto cifrado en el archivo de salida\n",
    "    with open(ruta_salida, 'wb') as f:\n",
    "        f.write(iv)           # Guardar el IV (16 bytes)\n",
    "        f.write(ciphertext)    # Guardar el texto cifrado\n",
    "\n",
    "    print(f\"Archivo cifrado guardado en {ruta_salida}\")\n"
   ]
  },
  {
   "cell_type": "code",
   "execution_count": 9,
   "id": "2cc54829-25d5-4eac-b0fa-aec1b303313b",
   "metadata": {},
   "outputs": [],
   "source": [
    "def descifrar_archivo(ruta_archivo, clave, ruta_salida):\n",
    "    with open(ruta_archivo, 'rb') as f:\n",
    "        iv = f.read(16)        # Leer el IV (16 bytes)\n",
    "        ciphertext = f.read()  # Leer el texto cifrado restante\n",
    "\n",
    "    # Crear un descifrador AES en modo CBC con el mismo IV\n",
    "    cipher = AES.new(clave, AES.MODE_CBC, iv=iv)\n",
    "\n",
    "    # Descifrar los datos\n",
    "    datos_padded = cipher.decrypt(ciphertext)\n",
    "\n",
    "    try:\n",
    "        # Eliminar el padding de los datos\n",
    "        datos = unpad(datos_padded, AES.block_size)\n",
    "\n",
    "        # Escribir el archivo descifrado\n",
    "        escribir_archivo(ruta_salida, datos)\n",
    "        print(f\"Archivo descifrado guardado en {ruta_salida}\")\n",
    "    except ValueError:\n",
    "        print(\"Error: el padding es incorrecto o los datos están corruptos.\")\n"
   ]
  },
  {
   "cell_type": "code",
   "execution_count": 10,
   "id": "1c9c2835-b2f5-45aa-b959-e833b956542d",
   "metadata": {},
   "outputs": [],
   "source": [
    "def generar_clave():\n",
    "    return get_random_bytes(32)  # AES-256 usa una clave de 256 bits (32 bytes)\n"
   ]
  },
  {
   "cell_type": "code",
   "execution_count": 11,
   "id": "e4371868-70cd-4f95-af76-b8d332faef31",
   "metadata": {},
   "outputs": [
    {
     "name": "stdout",
     "output_type": "stream",
     "text": [
      "Clave generada: b'\\xea\\x13\\xa6w\\x06\\xb0\\x1eD\\xa3\\x96\\xb2)\\x04\\xf2\\x0c\\xbb\\xe4\\n\\xba\\xb4n(T\\xef\\nwf\\xf6\\xb6\\xe6(>'\n"
     ]
    }
   ],
   "source": [
    "# Generar una clave AES-256\n",
    "clave = generar_clave()\n",
    "print(\"Clave generada:\", clave)\n"
   ]
  },
  {
   "cell_type": "code",
   "execution_count": 12,
   "id": "28f0e441-0c31-469d-9a81-9e2e2b9ec1de",
   "metadata": {},
   "outputs": [
    {
     "name": "stdout",
     "output_type": "stream",
     "text": [
      "Clave generada: b'|\\x85+~GD\\xf7\\xbd\\xc4\\xae\\xa75B\\xaf[\\xffm\\x16\\xc1\\xb7\\x8d\\xf4X01RW\\xf6[\\xda\\tQ'\n"
     ]
    }
   ],
   "source": [
    "# Generar una clave AES-256\n",
    "clave = generar_clave()\n",
    "print(\"Clave generada:\", clave)\n"
   ]
  },
  {
   "cell_type": "code",
   "execution_count": 14,
   "id": "fec5489a-1b07-4ce5-b982-6c4f175d8eca",
   "metadata": {},
   "outputs": [
    {
     "name": "stdout",
     "output_type": "stream",
     "text": [
      "Archivo cifrado guardado en cifradoprueba.bin\n"
     ]
    }
   ],
   "source": [
    "ruta_archivo = \"pruebacifrado.txt\"\n",
    "ruta_salida_cifrado = \"cifradoprueba.bin\"\n",
    "cifrar_archivo(ruta_archivo, clave, ruta_salida_cifrado)"
   ]
  },
  {
   "cell_type": "code",
   "execution_count": 15,
   "id": "77ef0901-c866-4c27-b06c-1bcc9f79b70e",
   "metadata": {},
   "outputs": [
    {
     "name": "stdout",
     "output_type": "stream",
     "text": [
      "Archivo descifrado guardado en resultadocifrado.txt\n"
     ]
    }
   ],
   "source": [
    "# Proporciona la ruta del archivo cifrado y la ruta donde se guardará el archivo descifrado\n",
    "ruta_archivo_cifrado = \"cifradoprueba.bin\"  # Archivo cifrado\n",
    "ruta_salida_descifrado = \"resultadocifrado.txt\"  # Archivo para guardar los datos descifrados\n",
    "\n",
    "descifrar_archivo(ruta_archivo_cifrado, clave, ruta_salida_descifrado)\n"
   ]
  },
  {
   "cell_type": "code",
   "execution_count": null,
   "id": "f5c2f6c3-a9c0-48fb-ada2-99698c400617",
   "metadata": {},
   "outputs": [],
   "source": []
  }
 ],
 "metadata": {
  "kernelspec": {
   "display_name": "Python 3",
   "language": "python",
   "name": "python3"
  },
  "language_info": {
   "codemirror_mode": {
    "name": "ipython",
    "version": 3
   },
   "file_extension": ".py",
   "mimetype": "text/x-python",
   "name": "python",
   "nbconvert_exporter": "python",
   "pygments_lexer": "ipython3",
   "version": "3.13.0"
  }
 },
 "nbformat": 4,
 "nbformat_minor": 5
}
