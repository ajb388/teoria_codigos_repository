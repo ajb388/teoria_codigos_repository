{
 "cells": [
  {
   "cell_type": "code",
   "execution_count": 1,
   "id": "674b5bfa-b61f-48dc-98c6-fb361c14fc89",
   "metadata": {},
   "outputs": [],
   "source": [
    "import os\n",
    "import tkinter as tk\n",
    "from tkinter import filedialog\n",
    "from Crypto.PublicKey import RSA\n",
    "from Crypto.Cipher import AES\n",
    "from Crypto.Cipher import PKCS1_OAEP\n",
    "from Crypto.Util.Padding import pad, unpad\n",
    "from Crypto.Random import get_random_bytes"
   ]
  },
  {
   "cell_type": "code",
   "execution_count": 2,
   "id": "f6341005-0c4f-49c1-b770-5df399db8717",
   "metadata": {},
   "outputs": [],
   "source": [
    "# Función para leer el archivo y devolver su contenido\n",
    "def leer_archivo(ruta_archivo):\n",
    "    with open(ruta_archivo, 'rb') as f:\n",
    "        return f.read()\n",
    "\n",
    "# Función para escribir datos en un archivo\n",
    "def escribir_archivo(ruta_archivo, datos):\n",
    "    with open(ruta_archivo, 'wb') as f:\n",
    "        f.write(datos)\n"
   ]
  },
  {
   "cell_type": "code",
   "execution_count": 3,
   "id": "454b3d39-4c96-4aa9-9c74-ac0643fb0283",
   "metadata": {},
   "outputs": [],
   "source": [
    "def cifrar_archivo(ruta_archivo, clave_tamaño, ruta_salida, ruta_claves):\n",
    "    datos = leer_archivo(ruta_archivo)  # Leer el archivo a cifrar\n",
    "    clave = generar_clave(clave_tamaño)\n",
    "    print(\"Clave generada:\", clave)\n",
    "    # Crear un cifrador AES en modo CBC\n",
    "    cipher = AES.new(clave, AES.MODE_CBC)\n",
    "    iv = cipher.iv  # Inicializar el vector de inicialización (IV)\n",
    "\n",
    "    # Añadir padding (relleno) a los datos para que sean múltiplos del tamaño de bloque (16 bytes)\n",
    "    datos_padded = pad(datos, AES.block_size)\n",
    "\n",
    "    # Cifrar los datos\n",
    "    ciphertext = cipher.encrypt(datos_padded)\n",
    "\n",
    "    nombre_archivo, extension = os.path.splitext(os.path.basename(ruta_archivo))\n",
    "\n",
    "    # Guardar el IV y el texto cifrado en el archivo de salida\n",
    "    with open(ruta_salida, 'wb') as f:\n",
    "        f.write(iv)           # Guardar el IV (16 bytes)\n",
    "        f.write(ciphertext)    # Guardar el texto cifrado\n",
    "    guardar_clave(nombre_archivo, clave, extension, ruta_claves)\n",
    "    print(f\"Archivo cifrado guardado en {ruta_salida}\")\n"
   ]
  },
  {
   "cell_type": "code",
   "execution_count": 4,
   "id": "2cc54829-25d5-4eac-b0fa-aec1b303313b",
   "metadata": {},
   "outputs": [],
   "source": [
    "def descifrar_archivo(ruta_archivo, ruta_claves):\n",
    "    lista_claves = leer_claves(ruta_claves)\n",
    "    with open(ruta_archivo, 'rb') as f:\n",
    "        iv = f.read(16)        # Leer el IV (16 bytes)\n",
    "        ciphertext = f.read()  # Leer el texto cifrado restante\n",
    "\n",
    "    nombre_archivo, extension = os.path.splitext(os.path.basename(ruta_archivo))\n",
    "    \n",
    "    if nombre_archivo in lista_claves:\n",
    "        clave = lista_claves[nombre_archivo][0]\n",
    "        extension = lista_claves[nombre_archivo][1]\n",
    "        print(f\"La clave para '{nombre_archivo}' es : {clave}\")\n",
    "\n",
    "    ruta_salida = filedialog.asksaveasfilename(defaultextension=extension,\n",
    "                                               initialfile=nombre_archivo,\n",
    "                                               filetypes=[(\"Todos los archivos\", \"*.*\")])\n",
    "    \n",
    "    # Crear un descifrador AES en modo CBC con el mismo IV\n",
    "    cipher = AES.new(clave, AES.MODE_CBC, iv=iv)\n",
    "\n",
    "    # Descifrar los datos\n",
    "    datos_padded = cipher.decrypt(ciphertext)\n",
    "\n",
    "    try:\n",
    "        # Eliminar el padding de los datos\n",
    "        datos = unpad(datos_padded, AES.block_size)\n",
    "\n",
    "        # Escribir el archivo descifrado\n",
    "        escribir_archivo(ruta_salida, datos)\n",
    "        print(f\"Archivo descifrado guardado en {ruta_salida}\")\n",
    "    except ValueError:\n",
    "        print(\"Error: el padding es incorrecto o los datos están corruptos.\")\n"
   ]
  },
  {
   "cell_type": "code",
   "execution_count": 5,
   "id": "1c9c2835-b2f5-45aa-b959-e833b956542d",
   "metadata": {},
   "outputs": [],
   "source": [
    "def generar_clave(clave_tamaño):\n",
    "    if clave_tamaño == '32':\n",
    "        clave = get_random_bytes(32)\n",
    "    elif clave_tamaño == '24':\n",
    "        clave = get_random_bytes(24)\n",
    "    elif clave_tamaño == '16':\n",
    "        clave = get_random_bytes(16)\n",
    "    else:\n",
    "        print(\"Opción no válida\")\n",
    "    return clave # AES-256 usa una clave de 256 bits (32 bytes)\n"
   ]
  },
  {
   "cell_type": "code",
   "execution_count": 6,
   "id": "f85140d1-b9fd-4f47-9f68-68e156753822",
   "metadata": {},
   "outputs": [],
   "source": [
    "def guardar_clave(nombre, clave, extension, ruta_claves):\n",
    "    lista_claves = leer_claves(ruta_claves)\n",
    "    if nombre in lista_claves:\n",
    "        lista_claves[nombre] = (clave, extension)\n",
    "        with open(ruta_claves,'wb') as f:\n",
    "            for name in lista_claves:\n",
    "                name_bytes = name.encode('utf-8')\n",
    "                f.write(len(name_bytes).to_bytes(1,'big'))\n",
    "                f.write(name_bytes)\n",
    "                \n",
    "                f.write(len(lista_claves[name][0]).to_bytes(1, 'big'))\n",
    "                f.write(lista_claves[name][0])\n",
    "\n",
    "                ext_bytes = lista_claves[name][1].encode('utf-8')\n",
    "                f.write(len(ext_bytes).to_bytes(1,'big'))\n",
    "                f.write(ext_bytes)\n",
    "    else:\n",
    "        with open(ruta_claves,'ab') as f:\n",
    "            nombre_bytes = nombre.encode('utf-8')\n",
    "            f.write(len(nombre_bytes).to_bytes(1,'big'))\n",
    "            f.write(nombre_bytes)\n",
    "            \n",
    "            f.write(len(clave).to_bytes(1,'big'))\n",
    "            f.write(clave)\n",
    "\n",
    "            extension_bytes = extension.encode('utf-8')\n",
    "            f.write(len(extension_bytes).to_bytes(1,'big'))\n",
    "            f.write(extension_bytes)\n",
    "            "
   ]
  },
  {
   "cell_type": "code",
   "execution_count": 7,
   "id": "dbdc1fbc-1353-452a-b9dc-02dd78c89900",
   "metadata": {},
   "outputs": [],
   "source": [
    "def leer_claves(ruta_claves):\n",
    "    claves_leidas = {}\n",
    "    try:\n",
    "        with open(ruta_claves,'rb') as f:\n",
    "                while True:\n",
    "                    len_nombre = f.read(1)\n",
    "                    if not len_nombre:\n",
    "                        break\n",
    "                    len_nombre = int.from_bytes(len_nombre,'big')\n",
    "                    nombre = f.read(len_nombre).decode('utf-8')\n",
    "                \n",
    "                    len_clave = f.read(1)\n",
    "                    if not len_clave:\n",
    "                        break\n",
    "                    len_clave = int.from_bytes(len_clave,'big')\n",
    "                    clave = f.read(len_clave)\n",
    "\n",
    "                    len_extension = f.read(1)\n",
    "                    if not len_extension:\n",
    "                        break\n",
    "                    len_extension = int.from_bytes(len_extension,'big')\n",
    "                    extension = f.read(len_extension).decode('utf-8')\n",
    "                \n",
    "                    claves_leidas[nombre] = (clave, extension)\n",
    "                return claves_leidas\n",
    "    except FileNotFoundError:\n",
    "        return claves_leidas"
   ]
  },
  {
   "cell_type": "code",
   "execution_count": 8,
   "id": "9cf6a2ea-0946-49ae-bce2-3a0fae82ffd0",
   "metadata": {},
   "outputs": [],
   "source": [
    "def crear_RSA(ruta_archivo_cifrado):\n",
    "    key = RSA.generate(2048)\n",
    "    private_key = key.export_key()\n",
    "    public_key = key.publickey().export_key()\n",
    "\n",
    "    ruta_cortada = os.path.dirname(ruta_archivo_cifrado)\n",
    "    ruta_privada = os.path.normpath(os.path.join(ruta_cortada, \"private.pem\"))\n",
    "    ruta_publica = os.path.normpath(os.path.join(ruta_cortada, \"public.pem\"))\n",
    "    \n",
    "    with open(ruta_privada, \"wb\") as f:\n",
    "        f.write(private_key)\n",
    "    with open(ruta_publica, \"wb\") as f:\n",
    "        f.write(public_key)\n",
    "    "
   ]
  },
  {
   "cell_type": "code",
   "execution_count": 9,
   "id": "dcec6e2f-6e32-4973-b58a-0914628f7f4b",
   "metadata": {},
   "outputs": [],
   "source": [
    "def habilitar_claves(ruta_archivo_cifrado):\n",
    "    print(\"Necesitamos que nos facilite la clave privada para desencriptar el archivo de claves\")\n",
    "    root = tk.Tk()\n",
    "    root.withdraw()  # Oculta la ventana principal de Tkinter\n",
    "    ruta_archivo = filedialog.askopenfilename(\n",
    "                title=\"Seleccionar archivo\",\n",
    "                filetypes=[(\"Todos los archivos\", \"*.pem\")] #Seleccionamos el archivo clave privada\n",
    "            )\n",
    "    with open(ruta_archivo, \"rb\") as f:\n",
    "        private_key = RSA.import_key(f.read()) #Leemos su contenido y lo importamos como clave RSA\n",
    "        \n",
    "    cipher_rsa = PKCS1_OAEP.new(private_key) #Creamos el desencriptador con dicha clave privaad\n",
    "\n",
    "    with open(ruta_archivo_cifrado, \"rb\") as f:\n",
    "        encrypted_data = f.read() #Leemos el archivo de claves.bin \n",
    "\n",
    "    decrypted_data = cipher_rsa.decrypt(encrypted_data) #Desencriptamos su contenido\n",
    "\n",
    "    with open(ruta_archivo_cifrado, \"wb\") as f:\n",
    "        f.write(decrypted_data) #Reescribimos el archivo de claves.bin, ahora desencriptado, en su mismo archivo\n",
    "\n",
    "    return decrypted_data"
   ]
  },
  {
   "cell_type": "code",
   "execution_count": 10,
   "id": "87b82cc9-ea9a-4952-8bef-6ddc6e406182",
   "metadata": {},
   "outputs": [],
   "source": [
    "def encriptar_claves(ruta_archivo_cifrado):\n",
    "    print(\"¿Desea crear un nuevo par de claves pública y privada, o desea utilizar una clave pública propia?\")\n",
    "    print(\"1. Crear nuevas\")\n",
    "    print(\"2. Utilizar mi clave\")\n",
    "    opcion = input(\"Selecciona una opción: \")\n",
    "    if opcion == '1':\n",
    "        crear_RSA(ruta_archivo_cifrado) #Creamos las claves pública y privada en el mismo directorio que el archivo claves.bin\n",
    "        \n",
    "        ruta_cortada = os.path.dirname(ruta_archivo_cifrado)\n",
    "        ruta_archivo = os.path.normpath(os.path.join(ruta_cortada, \"public.pem\"))\n",
    "        \n",
    "        with open(ruta_archivo, \"rb\") as f:\n",
    "            public_key = RSA.import_key(f.read()) #Leemos su contenido y lo importamos como clave RSA\n",
    "\n",
    "        cipher_rsa = PKCS1_OAEP.new(public_key)\n",
    "\n",
    "        with open(ruta_archivo_cifrado, \"rb\") as f:\n",
    "            datos = f.read()\n",
    "            \n",
    "        encrypted_data = cipher_rsa.encrypt(datos)\n",
    "\n",
    "        with open(ruta_archivo_cifrado, \"wb\") as f:\n",
    "            f.write(encrypted_data)\n",
    "            \n",
    "    elif opcion == '2':\n",
    "        print(\"Necesitamos que nos facilite la clave publica para encriptar el archivo de claves\")\n",
    "        root = tk.Tk()\n",
    "        root.withdraw()  # Oculta la ventana principal de Tkinter\n",
    "        ruta_archivo = filedialog.askopenfilename(\n",
    "                title=\"Seleccionar archivo\",\n",
    "                filetypes=[(\"Todos los archivos\", \"*.pem\")] #Seleccionamos el archivo clave publica\n",
    "            )\n",
    "        with open(ruta_archivo, \"rb\") as f:\n",
    "            public_key = RSA.import_key(f.read()) #Leemos su contenido y lo importamos como clave RSA\n",
    "\n",
    "        cipher_rsa = PKCS1_OAEP.new(public_key)\n",
    "\n",
    "        with open(ruta_archivo_cifrado, \"rb\") as f:\n",
    "            datos = f.read()\n",
    "            \n",
    "        encrypted_data = cipher_rsa.encrypt(datos)\n",
    "\n",
    "        with open(ruta_archivo_cifrado, \"wb\") as f:\n",
    "            f.write(encrypted_data)\n",
    "    else:\n",
    "        print(\"Opción no válida. Inténtalo de nuevo.\")"
   ]
  },
  {
   "cell_type": "code",
   "execution_count": 11,
   "id": "f5c2f6c3-a9c0-48fb-ada2-99698c400617",
   "metadata": {},
   "outputs": [],
   "source": [
    "def menu():\n",
    "    print(\"1. Cifrar un archivo\")\n",
    "    print(\"2. Descifrar un archivo\")\n",
    "    print(\"3. Cargar archivo de claves (HACER LO PRIMERO SI YA TIENE CLAVES O PARA CREAR ARCHIVO DE CLAVES)\")\n",
    "    print(\"4. Encriptar claves (HACER LO ULTIMO SI QUIERES ENCRIPTAR LAS CLAVES\")\n",
    "    print(\"5. Salir\")\n",
    "    return input(\"Selecciona una opción: \")\n"
   ]
  },
  {
   "cell_type": "code",
   "execution_count": 12,
   "id": "406a28dc-7365-4ef8-a2e9-5a3694853bfa",
   "metadata": {},
   "outputs": [],
   "source": [
    "def main():\n",
    "    lista_claves = {}\n",
    "    ruta_salida = \"\"\n",
    "    while True:\n",
    "        opcion = menu()\n",
    "        if opcion == '1':\n",
    "            # Cifrar archivo\n",
    "            root = tk.Tk()\n",
    "            root.withdraw()  # Oculta la ventana principal de Tkinter\n",
    "            ruta_archivo = filedialog.askopenfilename(\n",
    "                title=\"Seleccionar archivo\",\n",
    "                filetypes=[(\"Todos los archivos\", \".*\")]\n",
    "            )\n",
    "            \n",
    "            if ruta_archivo:\n",
    "                print(f\"Has seleccionado: {ruta_archivo}\")\n",
    "                clave = input(\"Introduce tamaño de clave: 32 (256), 24 (192), 16 (128)\")\n",
    "                nombre_archivo, extension = os.path.splitext(os.path.basename(ruta_archivo))\n",
    "                ruta_salida = filedialog.asksaveasfilename(defaultextension=\".bin\",\n",
    "                                                           initialfile=nombre_archivo,\n",
    "                                                           filetypes=[(\"Archivos BIN\", \"*.bin\"),(\"Todos los archivos\", \"*.*\")])\n",
    "                cifrar_archivo(ruta_archivo, clave, ruta_salida, ruta_claves)\n",
    "                print(f\"Archivo cifrado y guardado en: {ruta_salida}\")\n",
    "            else:\n",
    "                print(\"No se seleccionó ningún archivo.\")\n",
    "                \n",
    "        elif opcion == '2':\n",
    "            # Descifrar archivo\n",
    "            root = tk.Tk()\n",
    "            root.withdraw()  # Oculta la ventana principal de Tkinter\n",
    "            ruta_archivo = filedialog.askopenfilename(\n",
    "                title=\"Seleccionar archivo cifrado\",\n",
    "                filetypes=[(\"Todos los archivos\", \"*.bin\")]\n",
    "            )\n",
    "            \n",
    "            if ruta_archivo:\n",
    "                print(f\"Has seleccionado: {ruta_archivo}\")\n",
    "                descifrar_archivo(ruta_archivo, ruta_claves)\n",
    "            else:\n",
    "                print(\"No se seleccionó ningún archivo.\")\n",
    "        elif opcion == '3':\n",
    "            root = tk.Tk()\n",
    "            root.withdraw()  # Oculta la ventana principal de Tkinter\n",
    "            ruta_archivo = filedialog.askopenfilename(\n",
    "                title=\"Seleccionar archivo de claves\",\n",
    "                filetypes=[(\"Todos los archivos\", \"*.bin\")]\n",
    "            )\n",
    "            \n",
    "            if ruta_archivo:\n",
    "                ruta_claves = ruta_archivo\n",
    "                print(\"¿Este archivo está encriptado clave pública?\")\n",
    "                result = input(\"Seleccione 1 (SI) o 2 (NO)\")\n",
    "                if result == '1':\n",
    "                    lista_claves = habilitar_claves(ruta_claves)\n",
    "            else:\n",
    "                print(\"No se seleccionó ningún archivo. Crearemos un archivo de claves nuevo...\")\n",
    "                ruta_claves = filedialog.asksaveasfilename(defaultextension=\".bin\",\n",
    "                                                           initialfile=\"claves\",\n",
    "                                                           filetypes=[(\"Archivos BIN\", \"*.bin\"),(\"Todos los archivos\", \"*.*\")])\n",
    "                with open(ruta_claves, 'wb') as f:\n",
    "                    pass\n",
    "        elif opcion == '4':\n",
    "            encriptar_claves(ruta_claves)\n",
    "        elif opcion == '5':\n",
    "            print(\"Saliendo...\")\n",
    "            break\n",
    "        else:\n",
    "            print(\"Opción no válida. Inténtalo de nuevo.\")\n"
   ]
  },
  {
   "cell_type": "code",
   "execution_count": 13,
   "id": "396cca04-59f8-4e79-920f-c4c3fbb4e068",
   "metadata": {},
   "outputs": [
    {
     "name": "stdout",
     "output_type": "stream",
     "text": [
      "1. Cifrar un archivo\n",
      "2. Descifrar un archivo\n",
      "3. Cargar archivo de claves (HACER LO PRIMERO SI YA TIENE CLAVES O PARA CREAR ARCHIVO DE CLAVES)\n",
      "4. Encriptar claves (HACER LO ULTIMO SI QUIERES ENCRIPTAR LAS CLAVES\n",
      "5. Salir\n"
     ]
    },
    {
     "name": "stdin",
     "output_type": "stream",
     "text": [
      "Selecciona una opción:  3\n"
     ]
    },
    {
     "name": "stdout",
     "output_type": "stream",
     "text": [
      "¿Este archivo está encriptado clave pública?\n"
     ]
    },
    {
     "name": "stdin",
     "output_type": "stream",
     "text": [
      "Seleccione 1 (SI) o 2 (NO) 1\n"
     ]
    },
    {
     "name": "stdout",
     "output_type": "stream",
     "text": [
      "Necesitamos que nos facilite la clave privada para desencriptar el archivo de claves\n",
      "1. Cifrar un archivo\n",
      "2. Descifrar un archivo\n",
      "3. Cargar archivo de claves (HACER LO PRIMERO SI YA TIENE CLAVES O PARA CREAR ARCHIVO DE CLAVES)\n",
      "4. Encriptar claves (HACER LO ULTIMO SI QUIERES ENCRIPTAR LAS CLAVES\n",
      "5. Salir\n"
     ]
    },
    {
     "name": "stdin",
     "output_type": "stream",
     "text": [
      "Selecciona una opción:  2\n"
     ]
    },
    {
     "name": "stdout",
     "output_type": "stream",
     "text": [
      "Has seleccionado: D:/EscritorioD/CarpetaPruebas/prueba1.bin\n",
      "La clave para 'prueba1' es : b'\\x1c\\xd0\\x94v\\xfc\\xe6NG\\x82\\xb7sC\\x16?\\xe7\\x19'\n",
      "Archivo descifrado guardado en D:/EscritorioD/CarpetaPruebas/prueba1res.txt\n",
      "1. Cifrar un archivo\n",
      "2. Descifrar un archivo\n",
      "3. Cargar archivo de claves (HACER LO PRIMERO SI YA TIENE CLAVES O PARA CREAR ARCHIVO DE CLAVES)\n",
      "4. Encriptar claves (HACER LO ULTIMO SI QUIERES ENCRIPTAR LAS CLAVES\n",
      "5. Salir\n"
     ]
    },
    {
     "name": "stdin",
     "output_type": "stream",
     "text": [
      "Selecciona una opción:  2\n"
     ]
    },
    {
     "name": "stdout",
     "output_type": "stream",
     "text": [
      "Has seleccionado: D:/EscritorioD/CarpetaPruebas/prueba2.bin\n",
      "La clave para 'prueba2' es : b'\\xad_\\x9eS\\xb8\\xaf\\xc8\\x1a\\x8bM\\x0f\\x88\\x07e..\\xe1\\xe6n3\\xc1\"\\x11\\x05YB^\\xff\\x94\\xb7(\\x05'\n",
      "Archivo descifrado guardado en D:/EscritorioD/CarpetaPruebas/prueba2res.txt\n",
      "1. Cifrar un archivo\n",
      "2. Descifrar un archivo\n",
      "3. Cargar archivo de claves (HACER LO PRIMERO SI YA TIENE CLAVES O PARA CREAR ARCHIVO DE CLAVES)\n",
      "4. Encriptar claves (HACER LO ULTIMO SI QUIERES ENCRIPTAR LAS CLAVES\n",
      "5. Salir\n"
     ]
    },
    {
     "name": "stdin",
     "output_type": "stream",
     "text": [
      "Selecciona una opción:  2\n"
     ]
    },
    {
     "name": "stdout",
     "output_type": "stream",
     "text": [
      "Has seleccionado: D:/EscritorioD/CarpetaPruebas/prueba3.bin\n",
      "La clave para 'prueba3' es : b'\\x0f\\x80t\\xc1~\\xc2\\xc5\\xb6\\xc1\\xe1bkW\\xecY\\x99\\x0fM\\x07\\x9c\\xbf\\xdd1\\xb1T\\x99r\\x9a\\xde\\x90\\\\\\xa5'\n",
      "Archivo descifrado guardado en D:/EscritorioD/CarpetaPruebas/prueba3res.txt\n",
      "1. Cifrar un archivo\n",
      "2. Descifrar un archivo\n",
      "3. Cargar archivo de claves (HACER LO PRIMERO SI YA TIENE CLAVES O PARA CREAR ARCHIVO DE CLAVES)\n",
      "4. Encriptar claves (HACER LO ULTIMO SI QUIERES ENCRIPTAR LAS CLAVES\n",
      "5. Salir\n"
     ]
    },
    {
     "name": "stdin",
     "output_type": "stream",
     "text": [
      "Selecciona una opción:  5\n"
     ]
    },
    {
     "name": "stdout",
     "output_type": "stream",
     "text": [
      "Saliendo...\n"
     ]
    }
   ],
   "source": [
    "if __name__ == \"__main__\":\n",
    "    main()\n"
   ]
  }
 ],
 "metadata": {
  "kernelspec": {
   "display_name": "Python 3 (ipykernel)",
   "language": "python",
   "name": "python3"
  },
  "language_info": {
   "codemirror_mode": {
    "name": "ipython",
    "version": 3
   },
   "file_extension": ".py",
   "mimetype": "text/x-python",
   "name": "python",
   "nbconvert_exporter": "python",
   "pygments_lexer": "ipython3",
   "version": "3.11.9"
  }
 },
 "nbformat": 4,
 "nbformat_minor": 5
}
